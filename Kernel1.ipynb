{
 "cells": [
  {
   "cell_type": "code",
   "execution_count": 42,
   "metadata": {
    "collapsed": true
   },
   "outputs": [],
   "source": [
    "# -*- coding: utf-8 -*-\n",
    "# カーネル法を使った関数推定"
   ]
  },
  {
   "cell_type": "code",
   "execution_count": 35,
   "metadata": {
    "collapsed": false
   },
   "outputs": [],
   "source": [
    "%matplotlib inline\n",
    "import numpy as np\n",
    "import matplotlib.pyplot as plt\n",
    "\n",
    "# 推定対象のサンプル点を作る関数\n",
    "# 乱数で適当に散らばらせる\n",
    "def test_function(x):\n",
    "    sigma = 1\n",
    "    mu = 0\n",
    "    disturbance = 0\n",
    "    strength_diturbance = 1 / 40\n",
    "    if hasattr(x, 'size'):\n",
    "        disturbance = np.random.randn(x.size) / sigma * strength_diturbance\n",
    "    else:\n",
    "        disturbance = np.random.randn() / sigma * strength_diturbance\n",
    "    return 1/ np.sqrt(2 * np.pi) / sigma * np.exp(-np.power((x - mu), 2) / (2 * np.power(sigma, 2))) - x / 20 + disturbance    \n",
    "\n"
   ]
  },
  {
   "cell_type": "code",
   "execution_count": 36,
   "metadata": {
    "collapsed": false
   },
   "outputs": [
    {
     "data": {
      "image/png": "[encoded data removed]",
      "text/plain": [
       "<matplotlib.figure.Figure at 0x439d8d0>"
      ]
     },
     "metadata": {},
     "output_type": "display_data"
    }
   ],
   "source": [
    "# サンプル点をプロット\n",
    "x_sample = np.arange(-3, 3, 0.3)\n",
    "y_sample = test_function(x_sample)\n",
    "plt.plot(x_sample, y_sample, \"o\")\n",
    "plt.show()"
   ]
  },
  {
   "cell_type": "code",
   "execution_count": 37,
   "metadata": {
    "collapsed": true
   },
   "outputs": [],
   "source": [
    "# ガウシアンカーネル\n",
    "def kernel_gauss(x, x_sample, beta):\n",
    "    # 配列に適用できるように小細工\n",
    "    if hasattr(x_sample, 'size') and x_sample.size > 1:\n",
    "        z = x_sample[:, np.newaxis]\n",
    "        return beta * np.exp(-np.power(x - z, 2))\n",
    "    else:\n",
    "        return beta * np.exp(-np.power(x - x_sample, 2))"
   ]
  },
  {
   "cell_type": "code",
   "execution_count": 38,
   "metadata": {
    "collapsed": true
   },
   "outputs": [],
   "source": [
    "class Kernel:\n",
    "    def __init__(self, x_sample, kernel_function):\n",
    "        '''\n",
    "        x_sample : MxN matrix, M is number of sample, N is dimension of x\n",
    "        今回はM = 20, N = 1\n",
    "        '''\n",
    "        self.x_sample = x_sample\n",
    "        self.kernel_function = kernel_function\n",
    "        \n",
    "    def __call__(self, x):\n",
    "        return self.kernel_function(x, self.x_sample)\n",
    "        \n",
    "    def gram_matrix(self):\n",
    "        n = self.x_sample.size\n",
    "        gram = np.zeros((n, n))\n",
    "        \n",
    "        for i in range(n):\n",
    "            for j in range(i, n):\n",
    "                value = self.kernel_function(\\\n",
    "                    self.x_sample[i], \n",
    "                    self.x_sample[j])\n",
    "                gram[i, j] = value\n",
    "                gram[j, i] = value\n",
    "        return gram"
   ]
  },
  {
   "cell_type": "code",
   "execution_count": 39,
   "metadata": {
    "collapsed": true
   },
   "outputs": [],
   "source": [
    "# ガウシアンカーネルの半径betaを設定、ラムダ式でに引数関数にする\n",
    "# 初めから__call__メソッドを持たせたクラスにしてもよかったかも\n",
    "beta = 1\n",
    "kernel_function = lambda x, y: kernel_gauss(x, y, beta)\n",
    "# カーネルのオブジェクト生成、グラム行列の計算\n",
    "kernel = Kernel(x_sample, kernel_function)\n",
    "gram_matrix = kernel.gram_matrix()\n",
    "# 正則化パラメータを設定\n",
    "lamb = 0.01\n",
    "lamb = lamb * np.identity(x_sample.size)"
   ]
  },
  {
   "cell_type": "code",
   "execution_count": 40,
   "metadata": {
    "collapsed": false,
    "scrolled": true
   },
   "outputs": [
    {
     "data": {
      "image/png": "[encoded data removed]",
      "text/plain": [
       "<matplotlib.figure.Figure at 0x74f8e10>"
      ]
     },
     "metadata": {},
     "output_type": "display_data"
    }
   ],
   "source": [
    "# 正則化項付きの係数計算\n",
    "alpha = np.dot(np.linalg.inv(gram_matrix + lamb), y_sample)\n",
    "# 推定した関数をプロット\n",
    "x = np.arange(-4, 4, 0.05)\n",
    "y = np.dot(alpha.T, kernel(x))\n",
    "plt.plot(x_sample, y_sample, 'o')\n",
    "plt.plot(x, y)\n",
    "plt.ylim([-0.3, 0.5])\n",
    "plt.show()"
   ]
  },
  {
   "cell_type": "code",
   "execution_count": 41,
   "metadata": {
    "collapsed": false
   },
   "outputs": [
    {
     "name": "stdout",
     "output_type": "stream",
     "text": [
      "Variable          Type        Data/Info\n",
      "---------------------------------------\n",
      "Kernel            type        <class '__main__.Kernel'>\n",
      "alpha             ndarray     20: 20 elems, type `float64`, 160 bytes\n",
      "beta              int         1\n",
      "gram_matrix       ndarray     20x20: 400 elems, type `float64`, 3200 bytes\n",
      "kernel            Kernel      <__main__.Kernel object at 0x000000000774B630>\n",
      "kernel_function   function    <function <lambda> at 0x00000000076B2048>\n",
      "kernel_gauss      function    <function kernel_gauss at 0x000000000751CEA0>\n",
      "lamb              ndarray     20x20: 400 elems, type `float64`, 3200 bytes\n",
      "np                module      <module 'numpy' from 'C:\\<...>ges\\\\numpy\\\\__init__.py'>\n",
      "plt               module      <module 'matplotlib.pyplo<...>\\\\matplotlib\\\\pyplot.py'>\n",
      "test_function     function    <function test_function at 0x0000000004369A60>\n",
      "x                 ndarray     160: 160 elems, type `float64`, 1280 bytes\n",
      "x_sample          ndarray     20: 20 elems, type `float64`, 160 bytes\n",
      "y                 ndarray     160: 160 elems, type `float64`, 1280 bytes\n",
      "y_sample          ndarray     20: 20 elems, type `float64`, 160 bytes\n"
     ]
    }
   ],
   "source": [
    "%whos"
   ]
  },
  {
   "cell_type": "code",
   "execution_count": null,
   "metadata": {
    "collapsed": true
   },
   "outputs": [],
   "source": []
  }
 ],
 "metadata": {
  "kernelspec": {
   "display_name": "Python 3",
   "language": "python",
   "name": "python3"
  },
  "language_info": {
   "codemirror_mode": {
    "name": "ipython",
    "version": 3
   },
   "file_extension": ".py",
   "mimetype": "text/x-python",
   "name": "python",
   "nbconvert_exporter": "python",
   "pygments_lexer": "ipython3",
   "version": "3.5.1"
  }
 },
 "nbformat": 4,
 "nbformat_minor": 0
}
